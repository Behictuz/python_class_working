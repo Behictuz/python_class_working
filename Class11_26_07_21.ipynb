{
 "cells": [
  {
   "cell_type": "code",
   "execution_count": 15,
   "id": "8b7ac1d8",
   "metadata": {},
   "outputs": [
    {
     "ename": "SyntaxError",
     "evalue": "invalid syntax (<ipython-input-15-c1b41c6d80fe>, line 4)",
     "output_type": "error",
     "traceback": [
      "\u001b[1;36m  File \u001b[1;32m\"<ipython-input-15-c1b41c6d80fe>\"\u001b[1;36m, line \u001b[1;32m4\u001b[0m\n\u001b[1;33m    if age.isdigit()==False\u001b[0m\n\u001b[1;37m                           ^\u001b[0m\n\u001b[1;31mSyntaxError\u001b[0m\u001b[1;31m:\u001b[0m invalid syntax\n"
     ]
    }
   ],
   "source": [
    "age=input(\"Yasinizi giriniz: \")\n",
    "while age.isdigit()==True:\n",
    "    print(\"dogru veri girildi\")\n",
    "    break\n",
    "\n",
    "    \n",
    "                                                                                                                                                            "
   ]
  },
  {
   "cell_type": "code",
   "execution_count": 27,
   "id": "80d48989",
   "metadata": {},
   "outputs": [
    {
     "name": "stdout",
     "output_type": "stream",
     "text": [
      "yeni bir sayi girin : 23\n",
      "biraz yukari\n",
      "yeni sayi lütfen: 45\n"
     ]
    }
   ],
   "source": [
    "number = int(input(\"yeni bir sayi girin : \"))\n",
    "while not number==45:\n",
    "    if number < 45:\n",
    "        print(\"biraz yukari\")\n",
    "    elif number > 45:\n",
    "        print(\"biraz asagi\")\n",
    "    else: \n",
    "        print(\"süper yaptin\")\n",
    "     \n",
    "    number=int(input(\"yeni sayi lütfen: \"))"
   ]
  },
  {
   "cell_type": "code",
   "execution_count": 42,
   "id": "19fba168",
   "metadata": {},
   "outputs": [
    {
     "name": "stdout",
     "output_type": "stream",
     "text": [
      "bir cümle girin : Clarusway ist the best of the world\n",
      "En büyük sayiiii :  9\n"
     ]
    }
   ],
   "source": [
    "text = str(input(\"bir cümle girin : \"))\n",
    "word=text.split()\n",
    "i = 0\n",
    "longest = 0\n",
    "while i < len(word):\n",
    "    if len(word[i]) > longest:\n",
    "        longest=len(word[i])\n",
    "    i +=1\n",
    "print(\"En büyük sayiiii : \" ,longest)\n",
    "    \n",
    "        \n",
    "\n"
   ]
  },
  {
   "cell_type": "code",
   "execution_count": 44,
   "id": "c8fb4f2b",
   "metadata": {},
   "outputs": [
    {
     "name": "stdout",
     "output_type": "stream",
     "text": [
      "ahmet\n",
      "ahmet\n",
      "ahmet\n",
      "ahmet\n",
      "ahmet\n"
     ]
    }
   ],
   "source": [
    "for i in [1,2,3,4,5]:\n",
    "    print(\"ahmet\")"
   ]
  },
  {
   "cell_type": "code",
   "execution_count": 45,
   "id": "38e9bee9",
   "metadata": {},
   "outputs": [
    {
     "name": "stdout",
     "output_type": "stream",
     "text": [
      "hello ahmed\n",
      "hello Ayse \n",
      "hello Adam\n",
      "hello Joseph\n",
      "hello Gabriel\n"
     ]
    }
   ],
   "source": [
    "names =[\"ahmed\",\"Ayse \", \"Adam\", \"Joseph\",\"Gabriel\"]\n",
    "for name in names:\n",
    "    print(\"hello\",name)"
   ]
  },
  {
   "cell_type": "code",
   "execution_count": 47,
   "id": "e9a9966b",
   "metadata": {},
   "outputs": [
    {
     "name": "stdout",
     "output_type": "stream",
     "text": [
      "[0, 1, 2, 3, 4, 5]\n"
     ]
    }
   ],
   "source": [
    "clas =[]\n",
    "for i in range(6):\n",
    "    clas.append(i)\n",
    "print(clas)"
   ]
  },
  {
   "cell_type": "code",
   "execution_count": 71,
   "id": "a0095478",
   "metadata": {},
   "outputs": [
    {
     "name": "stdout",
     "output_type": "stream",
     "text": [
      "C-l-a-r-u-s-w-a-y"
     ]
    }
   ],
   "source": [
    "a = \"Clarusway\"\n",
    "b =len(a)\n",
    "count= 0\n",
    "for i in a:\n",
    "    count +=1\n",
    "    if count < b:\n",
    "        i=i+\"-\"\n",
    "    print(i,end=\"\")"
   ]
  },
  {
   "cell_type": "code",
   "execution_count": 75,
   "id": "9e8329d8",
   "metadata": {},
   "outputs": [
    {
     "name": "stdout",
     "output_type": "stream",
     "text": [
      "Carpim tablosunu görmek istediginiz sayiyi giriniz: 8\n",
      "0 * 8 = 0\n",
      "1 * 8 = 8\n",
      "2 * 8 = 16\n",
      "3 * 8 = 24\n",
      "4 * 8 = 32\n",
      "5 * 8 = 40\n",
      "6 * 8 = 48\n",
      "7 * 8 = 56\n",
      "8 * 8 = 64\n",
      "9 * 8 = 72\n",
      "10 * 8 = 80\n"
     ]
    }
   ],
   "source": [
    "a= int(input(\"Carpim tablosunu görmek istediginiz sayiyi giriniz: \"))\n",
    "count=0\n",
    "for i in range(11):\n",
    "    print(count,\"*\",a,\"=\",count*a)\n",
    "    count +=1\n",
    "    "
   ]
  },
  {
   "cell_type": "code",
   "execution_count": 87,
   "id": "f387a7cb",
   "metadata": {},
   "outputs": [
    {
     "name": "stdout",
     "output_type": "stream",
     "text": [
      "kaca kadar yazcaksin: 5\n",
      "\n",
      "1\n",
      "22\n",
      "333\n",
      "4444\n",
      "55555\n"
     ]
    }
   ],
   "source": [
    "a= int(input(\"kaca kadar yazcaksin: \"))\n",
    "count=0\n",
    "for i in range(a+1):\n",
    "    print(str(count)*i)\n",
    "    count +=1"
   ]
  },
  {
   "cell_type": "code",
   "execution_count": 88,
   "id": "ca69d167",
   "metadata": {},
   "outputs": [
    {
     "name": "stdout",
     "output_type": "stream",
     "text": [
      "one : 1\n",
      "two : 2\n",
      "three : 3\n",
      "four : 4\n",
      "five : 5\n"
     ]
    }
   ],
   "source": [
    "text = ['one', 'two', 'three', 'four', 'five']\n",
    "numbers = [1, 2, 3, 4, 5]\n",
    "for x , y in zip(text, numbers):\n",
    "    print(x, \":\", y)"
   ]
  },
  {
   "cell_type": "code",
   "execution_count": 93,
   "id": "7e698240",
   "metadata": {},
   "outputs": [
    {
     "name": "stdout",
     "output_type": "stream",
     "text": [
      "[2, 4, 6, 8]\n",
      "[1, 3, 5, 7, 9]\n"
     ]
    }
   ],
   "source": [
    "even=[]\n",
    "odd=[]\n",
    "for i in range(1,10):\n",
    "    if i % 2 ==0:\n",
    "        even.append(i)\n",
    "    else:odd.append(i)\n",
    "print(even)\n",
    "print(odd)"
   ]
  },
  {
   "cell_type": "code",
   "execution_count": null,
   "id": "30c91525",
   "metadata": {},
   "outputs": [],
   "source": []
  }
 ],
 "metadata": {
  "kernelspec": {
   "display_name": "Python 3",
   "language": "python",
   "name": "python3"
  },
  "language_info": {
   "codemirror_mode": {
    "name": "ipython",
    "version": 3
   },
   "file_extension": ".py",
   "mimetype": "text/x-python",
   "name": "python",
   "nbconvert_exporter": "python",
   "pygments_lexer": "ipython3",
   "version": "3.8.8"
  }
 },
 "nbformat": 4,
 "nbformat_minor": 5
}
