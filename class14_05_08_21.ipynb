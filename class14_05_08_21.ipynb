{
 "cells": [
  {
   "cell_type": "markdown",
   "id": "8c1729ff",
   "metadata": {},
   "source": [
    "2 type Argument:\n",
    "**Positional Argument"
   ]
  },
  {
   "cell_type": "code",
   "execution_count": 1,
   "id": "5efdfe22",
   "metadata": {
    "scrolled": true
   },
   "outputs": [
    {
     "name": "stdout",
     "output_type": "stream",
     "text": [
      "3 is the first argument\n",
      "4 is the second argument\n",
      "\n",
      "4 is the first argument\n",
      "3 is the second argument\n"
     ]
    }
   ],
   "source": [
    "def pos_args(a,b):\n",
    "    print(a,\"is the first argument\")\n",
    "    print(b,\"is the second argument\")\n",
    "pos_args(3,4)\n",
    "print()\n",
    "pos_args(4,3)"
   ]
  },
  {
   "cell_type": "code",
   "execution_count": 8,
   "id": "0d4d0d0f",
   "metadata": {},
   "outputs": [
    {
     "name": "stdout",
     "output_type": "stream",
     "text": [
      "I you love\n"
     ]
    }
   ],
   "source": [
    "def texter(text1,text2,text3):\n",
    "    print(text2,text1,text3)\n",
    "a= \"I\"\n",
    "b=\"love\"\n",
    "c=\"you\"\n",
    "texter(c,a,b)"
   ]
  },
  {
   "cell_type": "markdown",
   "id": "46bc4a7e",
   "metadata": {},
   "source": [
    "**Keyword Arguments\n",
    "The formula syntax is: !!!!! kwargs=values"
   ]
  },
  {
   "cell_type": "code",
   "execution_count": 9,
   "id": "6af14d8c",
   "metadata": {},
   "outputs": [
    {
     "name": "stdout",
     "output_type": "stream",
     "text": [
      "Your first name is : Guido\n",
      "Your last name is : van Rossum\n"
     ]
    }
   ],
   "source": [
    "def who(first,last): \n",
    "    print(\"Your first name is :\" ,first)\n",
    "    print(\"Your last name is :\" , last)\n",
    "who(first=\"Guido\",last=\"van Rossum\")"
   ]
  },
  {
   "cell_type": "code",
   "execution_count": 10,
   "id": "7201b362",
   "metadata": {},
   "outputs": [
    {
     "name": "stdout",
     "output_type": "stream",
     "text": [
      "I love you\n"
     ]
    }
   ],
   "source": [
    "def texter(text1,text2,text3):\n",
    "    print(f\"{text2} {text3} {text1}\")\n",
    "texter(text1=\"you\",text2=\"I\",text3=\"love\")"
   ]
  },
  {
   "cell_type": "code",
   "execution_count": 12,
   "id": "33c688c8",
   "metadata": {},
   "outputs": [],
   "source": [
    "def parrot(voltage, state='a stiff', action='voom', type='Norwegian Blue'):\n",
    "    print(\"-- This parrot wouldn't\", action, end=' ')\n",
    "    print(\"if you put\", voltage, \"volts through it.\")\n",
    "    print(\"-- Lovely plumage, the\", type)\n",
    "    print(\"-- It's\", state, \"!\")\n",
    "    "
   ]
  },
  {
   "cell_type": "code",
   "execution_count": 14,
   "id": "67193184",
   "metadata": {},
   "outputs": [
    {
     "name": "stdout",
     "output_type": "stream",
     "text": [
      "-- This parrot wouldn't voom if you put 1000 volts through it.\n",
      "-- Lovely plumage, the Norwegian Blue\n",
      "-- It's a stiff !\n"
     ]
    }
   ],
   "source": [
    "parrot(1000)"
   ]
  },
  {
   "cell_type": "code",
   "execution_count": 15,
   "id": "3864b531",
   "metadata": {},
   "outputs": [
    {
     "name": "stdout",
     "output_type": "stream",
     "text": [
      "-- This parrot wouldn't VOOOOOM if you put 1000000 volts through it.\n",
      "-- Lovely plumage, the Norwegian Blue\n",
      "-- It's a stiff !\n"
     ]
    }
   ],
   "source": [
    "parrot(voltage=1000000, action='VOOOOOM')"
   ]
  },
  {
   "cell_type": "code",
   "execution_count": 20,
   "id": "65381ebf",
   "metadata": {},
   "outputs": [
    {
     "name": "stdout",
     "output_type": "stream",
     "text": [
      "-- This parrot wouldn't voom if you put a thousand volts through it.\n",
      "-- Lovely plumage, the Norwegian Blue\n",
      "-- It's pushing up the daisies  !\n"
     ]
    }
   ],
   "source": [
    "parrot(\"a thousand\", state = \"pushing up the daisies \")"
   ]
  },
  {
   "cell_type": "markdown",
   "id": "671d824f",
   "metadata": {},
   "source": [
    "##TÜM Positionalar bittikten sonra defaultlari tanimlayabilirsiniz!!!!!!!!!!"
   ]
  },
  {
   "cell_type": "code",
   "execution_count": 27,
   "id": "ad7cb6d0",
   "metadata": {},
   "outputs": [],
   "source": [
    "def argu(a,c,b=\"dünya\",d=\"saturn\"):\n",
    "    print(a,b,c,d, sep = \"\\n\")"
   ]
  },
  {
   "cell_type": "code",
   "execution_count": 28,
   "id": "f91a30e6",
   "metadata": {},
   "outputs": [
    {
     "ename": "TypeError",
     "evalue": "argu() missing 2 required positional arguments: 'a' and 'c'",
     "output_type": "error",
     "traceback": [
      "\u001b[1;31m---------------------------------------------------------------------------\u001b[0m",
      "\u001b[1;31mTypeError\u001b[0m                                 Traceback (most recent call last)",
      "\u001b[1;32m<ipython-input-28-2743aba80a34>\u001b[0m in \u001b[0;36m<module>\u001b[1;34m\u001b[0m\n\u001b[1;32m----> 1\u001b[1;33m \u001b[0margu\u001b[0m\u001b[1;33m(\u001b[0m\u001b[1;33m)\u001b[0m\u001b[1;33m\u001b[0m\u001b[1;33m\u001b[0m\u001b[0m\n\u001b[0m",
      "\u001b[1;31mTypeError\u001b[0m: argu() missing 2 required positional arguments: 'a' and 'c'"
     ]
    }
   ],
   "source": [
    "argu()"
   ]
  },
  {
   "cell_type": "code",
   "execution_count": 29,
   "id": "45265c6f",
   "metadata": {},
   "outputs": [
    {
     "name": "stdout",
     "output_type": "stream",
     "text": [
      "mars\n",
      "saturn\n",
      "jupiter\n",
      "venüs\n"
     ]
    }
   ],
   "source": [
    "argu(\"mars\",\"jupiter\",\"saturn\",\"venüs\")"
   ]
  },
  {
   "cell_type": "code",
   "execution_count": 32,
   "id": "bee21a8b",
   "metadata": {},
   "outputs": [
    {
     "name": "stdout",
     "output_type": "stream",
     "text": [
      "uranüs\n",
      "dünya\n",
      "jüpiter\n",
      "saturn\n"
     ]
    }
   ],
   "source": [
    "argu(a=\"uranüs\",c=\"jüpiter\")"
   ]
  },
  {
   "cell_type": "code",
   "execution_count": 37,
   "id": "4fa0d5c1",
   "metadata": {},
   "outputs": [
    {
     "name": "stdout",
     "output_type": "stream",
     "text": [
      "plüton\n",
      "mars\n",
      "venüs\n",
      "saturn\n"
     ]
    }
   ],
   "source": [
    "argu(\"plüton\",\"venüs\",\"mars\")"
   ]
  },
  {
   "cell_type": "markdown",
   "id": "b30bc4d3",
   "metadata": {},
   "source": [
    "*args and **kwargs\n",
    "def name(*parameter):\n",
    "   name(multiple args)\n",
    "def name(**parameter):\n",
    "   name(multiple kwargs) ---> dictionary"
   ]
  },
  {
   "cell_type": "code",
   "execution_count": 38,
   "id": "bccf9d1e",
   "metadata": {},
   "outputs": [
    {
     "name": "stdout",
     "output_type": "stream",
     "text": [
      "i want to get :\n",
      "- orange\n",
      "- apple\n",
      "- ananas\n"
     ]
    }
   ],
   "source": [
    "def fruiterer(*fruit):\n",
    "    print(\"i want to get :\")\n",
    "    for i in fruit:\n",
    "        print(\"-\" ,i)\n",
    "fruiterer(\"orange\",\"apple\",\"ananas\")"
   ]
  },
  {
   "cell_type": "code",
   "execution_count": 41,
   "id": "c51f6480",
   "metadata": {},
   "outputs": [
    {
     "name": "stdout",
     "output_type": "stream",
     "text": [
      "[2, 4, 8]\n",
      "[5, 3]\n"
     ]
    }
   ],
   "source": [
    "def slicer(*number):\n",
    "    even=[]\n",
    "    odd=[]\n",
    "    for i in number:\n",
    "        if (i%2==0) or (i == 0):\n",
    "            even.append(i)\n",
    "        else:\n",
    "            odd.append(i)\n",
    "    print(even)\n",
    "    print(odd)\n",
    "slicer(2,4,5,3,8)\n",
    "\n",
    "            \n",
    "            "
   ]
  },
  {
   "cell_type": "code",
   "execution_count": 44,
   "id": "bf443fc8",
   "metadata": {},
   "outputs": [],
   "source": [
    "def animals(**kwargs):\n",
    "    for key ,value in kwargs.items():\n",
    "        print(value, \"are\", key)"
   ]
  },
  {
   "cell_type": "code",
   "execution_count": 45,
   "id": "4bb4d214",
   "metadata": {},
   "outputs": [],
   "source": [
    "animals()"
   ]
  },
  {
   "cell_type": "code",
   "execution_count": 52,
   "id": "69065514",
   "metadata": {},
   "outputs": [],
   "source": [
    "def organizer(**kwargs):\n",
    "    a=[]\n",
    "    b=[]\n",
    "    for key ,value in kwargs.items():\n",
    "        a.append(key)\n",
    "        b.append(value)\n",
    "    print(a)\n",
    "    print(b)"
   ]
  },
  {
   "cell_type": "code",
   "execution_count": 53,
   "id": "997c9dfc",
   "metadata": {},
   "outputs": [
    {
     "name": "stdout",
     "output_type": "stream",
     "text": [
      "['beth', 'oscar', 'justin', 'Frank']\n",
      "[26, 42, 18, 33]\n"
     ]
    }
   ],
   "source": [
    "organizer(beth=26,oscar=42,justin=18,Frank=33)"
   ]
  },
  {
   "cell_type": "code",
   "execution_count": null,
   "id": "dc1ab95d",
   "metadata": {},
   "outputs": [],
   "source": []
  }
 ],
 "metadata": {
  "kernelspec": {
   "display_name": "Python 3",
   "language": "python",
   "name": "python3"
  },
  "language_info": {
   "codemirror_mode": {
    "name": "ipython",
    "version": 3
   },
   "file_extension": ".py",
   "mimetype": "text/x-python",
   "name": "python",
   "nbconvert_exporter": "python",
   "pygments_lexer": "ipython3",
   "version": "3.8.8"
  }
 },
 "nbformat": 4,
 "nbformat_minor": 5
}
