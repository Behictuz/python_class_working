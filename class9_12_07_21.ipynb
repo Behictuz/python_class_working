{
 "cells": [
  {
   "cell_type": "code",
   "execution_count": 4,
   "id": "175d793a",
   "metadata": {
    "scrolled": true
   },
   "outputs": [
    {
     "name": "stdout",
     "output_type": "stream",
     "text": [
      "{'blue', 'red', 'pink'}\n",
      "{'blue', 'red', 'pink'}\n"
     ]
    }
   ],
   "source": [
    "set_1={\"red\",\"blue\",\"pink\",\"red\"}\n",
    "colors=\"red\",\"blue\",\"pink\",\"red\"\n",
    "set_2 = set(colors)\n",
    "print(set_1)\n",
    "print(set_2)"
   ]
  },
  {
   "cell_type": "code",
   "execution_count": 6,
   "id": "80e24bf1",
   "metadata": {},
   "outputs": [
    {
     "name": "stdout",
     "output_type": "stream",
     "text": [
      "['a', 'b', 'c', 'd', 'e', 'f', 'g', 'h', 'i', 'j', 'k', 'l', 'm', 'n', 'o', 'ö', 'p', 'r', 's', 't', 'u', 'v', 'y', 'z']\n"
     ]
    }
   ],
   "source": [
    "letter=\"a b c d e f g h i j k l m n o ö p r s t u v y z\".split()\n",
    "print(letter)"
   ]
  },
  {
   "cell_type": "code",
   "execution_count": 7,
   "id": "433f32b8",
   "metadata": {},
   "outputs": [
    {
     "name": "stdout",
     "output_type": "stream",
     "text": [
      "{'y', 'j', 'z', 'n', 'e', 'a', 'i', 'o', 'f', 'b', 'd', 'g', 'r', 'p', 'ö', 'c', 't', 'm', 'h', 'k', 'u', 'v', 's', 'l'}\n"
     ]
    }
   ],
   "source": [
    "print(set(letter))"
   ]
  },
  {
   "cell_type": "code",
   "execution_count": 9,
   "id": "6941ad0e",
   "metadata": {},
   "outputs": [
    {
     "data": {
      "text/plain": [
       "2"
      ]
     },
     "execution_count": 9,
     "metadata": {},
     "output_type": "execute_result"
    }
   ],
   "source": [
    "test={1,\"bir\",1.0}\n",
    "len(test)"
   ]
  },
  {
   "cell_type": "code",
   "execution_count": 10,
   "id": "7785b0bb",
   "metadata": {},
   "outputs": [
    {
     "data": {
      "text/plain": [
       "dict"
      ]
     },
     "execution_count": 10,
     "metadata": {},
     "output_type": "execute_result"
    }
   ],
   "source": [
    "type({})"
   ]
  },
  {
   "cell_type": "code",
   "execution_count": 11,
   "id": "1faa9550",
   "metadata": {},
   "outputs": [
    {
     "data": {
      "text/plain": [
       "set"
      ]
     },
     "execution_count": 11,
     "metadata": {},
     "output_type": "execute_result"
    }
   ],
   "source": [
    "type(set())"
   ]
  },
  {
   "cell_type": "code",
   "execution_count": 12,
   "id": "2b255316",
   "metadata": {},
   "outputs": [
    {
     "name": "stdout",
     "output_type": "stream",
     "text": [
      "True\n"
     ]
    }
   ],
   "source": [
    "a = {'carnation', 'orchid', 'rose', 'violet'} \n",
    "b = {'rose', 'orchid', 'rose', 'violet', 'carnation'}\n",
    "print(a==b)"
   ]
  },
  {
   "cell_type": "code",
   "execution_count": 20,
   "id": "56dcaa5e",
   "metadata": {},
   "outputs": [
    {
     "name": "stdout",
     "output_type": "stream",
     "text": [
      "{'h', 'i', 'd', 'p', 'l'}\n",
      "{'h', 'i', 'd', 'p', 'l'}\n",
      "{'e', 'a', 'h', 'i', 'o', 'd', 'p', 'n', 'l'}\n",
      "{'e', 'a', 'h', 'i', 'o', 'd', 'p', 'n', 'l'}\n",
      "{'e', 'a'}\n",
      "{'e', 'a'}\n"
     ]
    }
   ],
   "source": [
    "a= set(\"philadelphia\")\n",
    "b= set(\"dolphin\")\n",
    "print(a.intersection(b)) #kesisim kumesi\n",
    "print(a&b) #kesisim kumesi\n",
    "print(a.union(b)) #birlesim kumesi\n",
    "print(a | b) #birlesim kumesi\n",
    "print(a.difference(b)) # a kümesinde olup b kumesinde olmayan elemanlari verir\n",
    "print(a- b) # a kümesinde olup b kumesinde olmayan elemanlari verir"
   ]
  },
  {
   "cell_type": "code",
   "execution_count": 22,
   "id": "63b85bbf",
   "metadata": {},
   "outputs": [
    {
     "data": {
      "text/plain": [
       "{'/', '0', '1', '2', '7'}"
      ]
     },
     "execution_count": 22,
     "metadata": {},
     "output_type": "execute_result"
    }
   ],
   "source": [
    "date = \"07/12/2021\"\n",
    "set(date)"
   ]
  },
  {
   "cell_type": "code",
   "execution_count": 27,
   "id": "2e3e7f43",
   "metadata": {},
   "outputs": [
    {
     "name": "stdout",
     "output_type": "stream",
     "text": [
      "{1, 2, 3, 4, 5}\n"
     ]
    }
   ],
   "source": [
    "given_list=[1,2,3,4,3,4,5,5,5]\n",
    "a=set(given_list)\n",
    "print(a)"
   ]
  },
  {
   "cell_type": "code",
   "execution_count": 28,
   "id": "1dd2f605",
   "metadata": {},
   "outputs": [
    {
     "name": "stdout",
     "output_type": "stream",
     "text": [
      "{'a', 'h', 's'}\n",
      "{'a', 'h', 's'}\n",
      "{'t', 'i', 'g', 'W', 'n', 'o'}\n",
      "{'t', 'i', 'g', 'W', 'n', 'o'}\n",
      "{'l', 'e', 'h', 'a', 'i', 'o', 'g', 's', 'W', 'n', 't'}\n",
      "{'l', 'e', 'h', 'a', 'i', 'o', 'g', 's', 'W', 'n', 't'}\n"
     ]
    }
   ],
   "source": [
    "a =set(\"Washington\")\n",
    "b=set(\"Wellington\")\n",
    "print(a-b)\n",
    "print(a.difference(b))\n",
    "print(a &  b)\n",
    "print(a.intersection(b))\n",
    "print(a|b)\n",
    "print(a.union(b))"
   ]
  },
  {
   "cell_type": "code",
   "execution_count": null,
   "id": "dd9e805c",
   "metadata": {},
   "outputs": [],
   "source": []
  }
 ],
 "metadata": {
  "kernelspec": {
   "display_name": "Python 3",
   "language": "python",
   "name": "python3"
  },
  "language_info": {
   "codemirror_mode": {
    "name": "ipython",
    "version": 3
   },
   "file_extension": ".py",
   "mimetype": "text/x-python",
   "name": "python",
   "nbconvert_exporter": "python",
   "pygments_lexer": "ipython3",
   "version": "3.8.8"
  }
 },
 "nbformat": 4,
 "nbformat_minor": 5
}
