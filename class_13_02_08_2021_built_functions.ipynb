{
 "cells": [
  {
   "cell_type": "code",
   "execution_count": 1,
   "id": "87d57299",
   "metadata": {},
   "outputs": [],
   "source": [
    "generate = (i**2 for i in range(6))"
   ]
  },
  {
   "cell_type": "code",
   "execution_count": 2,
   "id": "edc17c9b",
   "metadata": {},
   "outputs": [
    {
     "data": {
      "text/plain": [
       "<generator object <genexpr> at 0x0000022FC4474F90>"
      ]
     },
     "execution_count": 2,
     "metadata": {},
     "output_type": "execute_result"
    }
   ],
   "source": [
    "generate"
   ]
  },
  {
   "cell_type": "code",
   "execution_count": 3,
   "id": "fed15850",
   "metadata": {},
   "outputs": [
    {
     "name": "stdout",
     "output_type": "stream",
     "text": [
      "0 1 4 9 16 25\n"
     ]
    }
   ],
   "source": [
    "print(* generate)"
   ]
  },
  {
   "cell_type": "code",
   "execution_count": 6,
   "id": "78b7ed40",
   "metadata": {},
   "outputs": [],
   "source": [
    "for i in generate:\n",
    "    print(i) #bos döner cunku yukarda generatin icini bosalttik..."
   ]
  },
  {
   "cell_type": "code",
   "execution_count": 5,
   "id": "d83792ec",
   "metadata": {},
   "outputs": [
    {
     "data": {
      "text/plain": [
       "[]"
      ]
     },
     "execution_count": 5,
     "metadata": {},
     "output_type": "execute_result"
    }
   ],
   "source": [
    "list(generate)"
   ]
  },
  {
   "cell_type": "code",
   "execution_count": 13,
   "id": "be8e9e0a",
   "metadata": {},
   "outputs": [
    {
     "name": "stdout",
     "output_type": "stream",
     "text": [
      "enter a positive integer number : 423218238\n",
      "423218238 is not an Armstrong Number. Sorry.\n"
     ]
    }
   ],
   "source": [
    "while True :\n",
    "    number = input(\"enter a positive integer number : \")\n",
    "    digits = len(number)\n",
    "    summ = 0\n",
    "    if not number.isdigit() :\n",
    "        print(number, \" is invalid entry. Enter valid input.!\")\n",
    "    elif int(number) >= 0 :\n",
    "        for i in range(digits) :\n",
    "            summ = summ + int(number[i]) ** digits\n",
    "        if summ == int(number) :\n",
    "            print(number, \"is an Armstrong Number.\")\n",
    "            break\n",
    "        else :\n",
    "            print(number, \"is not an Armstrong Number. Sorry.\")\n",
    "            break"
   ]
  },
  {
   "cell_type": "markdown",
   "id": "f75eee77",
   "metadata": {},
   "source": [
    "## Is it Prime Number?"
   ]
  },
  {
   "cell_type": "code",
   "execution_count": 57,
   "id": "3e8424e5",
   "metadata": {},
   "outputs": [
    {
     "name": "stdout",
     "output_type": "stream",
     "text": [
      "Istediginiz sayiya kadar ki Prime sayilari bulmak icin sayi giriniz : 11\n",
      "11  is not Prime\n",
      "11 []  is a Prime Number. \n"
     ]
    }
   ],
   "source": [
    "n = int(input(\"Istediginiz sayiya kadar ki Prime sayilari bulmak icin sayi giriniz : \"))\n",
    "count=0\n",
    "a = []\n",
    "b = range(1,n+1)\n",
    "c = 1\n",
    "for i in b:\n",
    "    if b[c] % i == 0 :\n",
    "        count += 1\n",
    "        c += 1\n",
    "if (i==0) or (i==1) or (count>=3):\n",
    "            print(n, \" is not Prime\")\n",
    "else :\n",
    "            a = a.append(i)\n",
    "print(n, list(a), \" is a Prime Number. \")\n",
    "    "
   ]
  },
  {
   "cell_type": "code",
   "execution_count": 72,
   "id": "a9671706",
   "metadata": {},
   "outputs": [],
   "source": [
    "def calculator(a, b, c):\n",
    "    if c == \"+\":\n",
    "        return a + b\n",
    "    elif c == \"-\":\n",
    "        return a - b\n",
    "    elif c == \"/\":\n",
    "        return a / b\n",
    "    elif c == \"*\":\n",
    "        return a * b\n",
    "    else:\n",
    "        return \"Enter valid argument\""
   ]
  },
  {
   "cell_type": "code",
   "execution_count": 73,
   "id": "30f4e480",
   "metadata": {},
   "outputs": [
    {
     "data": {
      "text/plain": [
       "5"
      ]
     },
     "execution_count": 73,
     "metadata": {},
     "output_type": "execute_result"
    }
   ],
   "source": [
    "calculator(2,3,\"+\")"
   ]
  },
  {
   "cell_type": "code",
   "execution_count": 83,
   "id": "88d6fe54",
   "metadata": {},
   "outputs": [],
   "source": [
    "def absolute_value(a):\n",
    "    \"\"\" This is function gives absolute value\\ of the number..\"\"\"\n",
    "    if a >= 0:\n",
    "        return a\n",
    "    else : \n",
    "        return -a"
   ]
  },
  {
   "cell_type": "code",
   "execution_count": 85,
   "id": "bf8a5503",
   "metadata": {},
   "outputs": [
    {
     "data": {
      "text/plain": [
       "4"
      ]
     },
     "execution_count": 85,
     "metadata": {},
     "output_type": "execute_result"
    }
   ],
   "source": [
    "absolute_value(-4)"
   ]
  },
  {
   "cell_type": "code",
   "execution_count": null,
   "id": "95982925",
   "metadata": {},
   "outputs": [],
   "source": [
    "abs()"
   ]
  }
 ],
 "metadata": {
  "kernelspec": {
   "display_name": "Python 3",
   "language": "python",
   "name": "python3"
  },
  "language_info": {
   "codemirror_mode": {
    "name": "ipython",
    "version": 3
   },
   "file_extension": ".py",
   "mimetype": "text/x-python",
   "name": "python",
   "nbconvert_exporter": "python",
   "pygments_lexer": "ipython3",
   "version": "3.8.8"
  }
 },
 "nbformat": 4,
 "nbformat_minor": 5
}
