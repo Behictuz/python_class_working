{
 "cells": [
  {
   "cell_type": "code",
   "execution_count": 1,
   "id": "3d703357",
   "metadata": {},
   "outputs": [
    {
     "ename": "TypeError",
     "evalue": "'<' not supported between instances of 'int' and 'str'",
     "output_type": "error",
     "traceback": [
      "\u001b[1;31m---------------------------------------------------------------------------\u001b[0m",
      "\u001b[1;31mTypeError\u001b[0m                                 Traceback (most recent call last)",
      "\u001b[1;32m<ipython-input-1-124646282aa4>\u001b[0m in \u001b[0;36m<module>\u001b[1;34m\u001b[0m\n\u001b[0;32m      1\u001b[0m \u001b[0mmy_list\u001b[0m\u001b[1;33m=\u001b[0m\u001b[1;33m[\u001b[0m\u001b[1;34m'd'\u001b[0m\u001b[1;33m,\u001b[0m\u001b[1;36m1\u001b[0m\u001b[1;33m,\u001b[0m\u001b[1;34m'a'\u001b[0m\u001b[1;33m,\u001b[0m\u001b[1;36m7\u001b[0m\u001b[1;33m]\u001b[0m\u001b[1;33m\u001b[0m\u001b[1;33m\u001b[0m\u001b[0m\n\u001b[1;32m----> 2\u001b[1;33m \u001b[0mmy_list\u001b[0m\u001b[1;33m.\u001b[0m\u001b[0msort\u001b[0m\u001b[1;33m(\u001b[0m\u001b[1;33m)\u001b[0m\u001b[1;33m\u001b[0m\u001b[1;33m\u001b[0m\u001b[0m\n\u001b[0m\u001b[0;32m      3\u001b[0m \u001b[0mprint\u001b[0m\u001b[1;33m(\u001b[0m\u001b[0mmy_list\u001b[0m\u001b[1;33m)\u001b[0m\u001b[1;33m\u001b[0m\u001b[1;33m\u001b[0m\u001b[0m\n",
      "\u001b[1;31mTypeError\u001b[0m: '<' not supported between instances of 'int' and 'str'"
     ]
    }
   ],
   "source": [
    "my_list=['d',1,'a',7]\n",
    "my_list.sort()\n",
    "print(my_list) #error verir cunku farkli veri tipleri "
   ]
  },
  {
   "cell_type": "code",
   "execution_count": 3,
   "id": "3ff9723f",
   "metadata": {},
   "outputs": [],
   "source": [
    "list_1 = ['one', 'four', 'nine']\n",
    "list_2 = ['@', '*-', 'False']\n",
    "list_3 = [True, False]\n",
    "list_4 = [[3], [44], [-12]]\n",
    "list_5 = [[1, 3], [44, -40], [-12, 1]]"
   ]
  },
  {
   "cell_type": "code",
   "execution_count": 6,
   "id": "a364a05b",
   "metadata": {},
   "outputs": [
    {
     "data": {
      "text/plain": [
       "['four', 'nine', 'one']"
      ]
     },
     "execution_count": 6,
     "metadata": {},
     "output_type": "execute_result"
    }
   ],
   "source": [
    "list_1.sort()\n",
    "list_1"
   ]
  },
  {
   "cell_type": "code",
   "execution_count": 7,
   "id": "af6ecabc",
   "metadata": {},
   "outputs": [
    {
     "data": {
      "text/plain": [
       "['*-', '@', 'False']"
      ]
     },
     "execution_count": 7,
     "metadata": {},
     "output_type": "execute_result"
    }
   ],
   "source": [
    "list_2.sort()\n",
    "list_2"
   ]
  },
  {
   "cell_type": "code",
   "execution_count": 8,
   "id": "dcead447",
   "metadata": {},
   "outputs": [
    {
     "data": {
      "text/plain": [
       "42"
      ]
     },
     "execution_count": 8,
     "metadata": {},
     "output_type": "execute_result"
    }
   ],
   "source": [
    "ord(\"*\")"
   ]
  },
  {
   "cell_type": "code",
   "execution_count": 9,
   "id": "9344da71",
   "metadata": {},
   "outputs": [
    {
     "data": {
      "text/plain": [
       "64"
      ]
     },
     "execution_count": 9,
     "metadata": {},
     "output_type": "execute_result"
    }
   ],
   "source": [
    "ord(\"@\")"
   ]
  },
  {
   "cell_type": "code",
   "execution_count": 10,
   "id": "bfab0acd",
   "metadata": {},
   "outputs": [
    {
     "data": {
      "text/plain": [
       "70"
      ]
     },
     "execution_count": 10,
     "metadata": {},
     "output_type": "execute_result"
    }
   ],
   "source": [
    "ord(\"F\")"
   ]
  },
  {
   "cell_type": "code",
   "execution_count": 11,
   "id": "7a0d4d2a",
   "metadata": {},
   "outputs": [
    {
     "data": {
      "text/plain": [
       "['False', '@', '*-']"
      ]
     },
     "execution_count": 11,
     "metadata": {},
     "output_type": "execute_result"
    }
   ],
   "source": [
    "list_2.sort(reverse=True)\n",
    "list_2"
   ]
  },
  {
   "cell_type": "code",
   "execution_count": 12,
   "id": "a3760963",
   "metadata": {},
   "outputs": [
    {
     "data": {
      "text/plain": [
       "[False, True]"
      ]
     },
     "execution_count": 12,
     "metadata": {},
     "output_type": "execute_result"
    }
   ],
   "source": [
    "list_3.sort()\n",
    "list_3"
   ]
  },
  {
   "cell_type": "code",
   "execution_count": 13,
   "id": "2cf5b7ba",
   "metadata": {},
   "outputs": [
    {
     "data": {
      "text/plain": [
       "[[-12, 1], [1, 3], [44, -40]]"
      ]
     },
     "execution_count": 13,
     "metadata": {},
     "output_type": "execute_result"
    }
   ],
   "source": [
    "list_5=[[1,3],[44,-40],[-12,1]]\n",
    "list_5.sort()\n",
    "list_5"
   ]
  },
  {
   "cell_type": "code",
   "execution_count": 14,
   "id": "02307fd4",
   "metadata": {},
   "outputs": [
    {
     "name": "stdout",
     "output_type": "stream",
     "text": [
      "5\n"
     ]
    }
   ],
   "source": [
    "city=['Addis Ababa','Istanbul','Seol','Stockholm','Sydney']\n",
    "print(len(city))"
   ]
  },
  {
   "cell_type": "code",
   "execution_count": 15,
   "id": "24f19982",
   "metadata": {},
   "outputs": [
    {
     "ename": "TypeError",
     "evalue": "object of type 'int' has no len()",
     "output_type": "error",
     "traceback": [
      "\u001b[1;31m---------------------------------------------------------------------------\u001b[0m",
      "\u001b[1;31mTypeError\u001b[0m                                 Traceback (most recent call last)",
      "\u001b[1;32m<ipython-input-15-ec67a52704b7>\u001b[0m in \u001b[0;36m<module>\u001b[1;34m\u001b[0m\n\u001b[1;32m----> 1\u001b[1;33m \u001b[0mlen\u001b[0m\u001b[1;33m(\u001b[0m\u001b[1;36m1234\u001b[0m\u001b[1;33m)\u001b[0m\u001b[1;33m\u001b[0m\u001b[1;33m\u001b[0m\u001b[0m\n\u001b[0m",
      "\u001b[1;31mTypeError\u001b[0m: object of type 'int' has no len()"
     ]
    }
   ],
   "source": [
    "len(1234)"
   ]
  },
  {
   "cell_type": "code",
   "execution_count": 16,
   "id": "a2df80b2",
   "metadata": {},
   "outputs": [
    {
     "data": {
      "text/plain": [
       "6"
      ]
     },
     "execution_count": 16,
     "metadata": {},
     "output_type": "execute_result"
    }
   ],
   "source": [
    "[1,3,6,9][2] #listeyi indexliyor"
   ]
  },
  {
   "cell_type": "code",
   "execution_count": 17,
   "id": "616184a9",
   "metadata": {},
   "outputs": [
    {
     "data": {
      "text/plain": [
       "3"
      ]
     },
     "execution_count": 17,
     "metadata": {},
     "output_type": "execute_result"
    }
   ],
   "source": [
    "sayilar=[1,2,3,4]\n",
    "sayilar[2]"
   ]
  },
  {
   "cell_type": "code",
   "execution_count": 21,
   "id": "b3a69220",
   "metadata": {},
   "outputs": [
    {
     "name": "stdout",
     "output_type": "stream",
     "text": [
      "1 <class 'int'>\n"
     ]
    }
   ],
   "source": [
    "new= [\"h\",\"a\",1,[\"p\",2],True]\n",
    "print(new[2],type(new[2]))"
   ]
  },
  {
   "cell_type": "code",
   "execution_count": 19,
   "id": "81ac8b21",
   "metadata": {},
   "outputs": [
    {
     "data": {
      "text/plain": [
       "2"
      ]
     },
     "execution_count": 19,
     "metadata": {},
     "output_type": "execute_result"
    }
   ],
   "source": [
    "new[3][1]"
   ]
  },
  {
   "cell_type": "code",
   "execution_count": 22,
   "id": "c8c1d365",
   "metadata": {},
   "outputs": [
    {
     "name": "stdout",
     "output_type": "stream",
     "text": [
      "[['New york', 'London']]\n"
     ]
    }
   ],
   "source": [
    "city=['New york','London']\n",
    "new_list=[]\n",
    "new_list.append(city)\n",
    "print(new_list)\n"
   ]
  },
  {
   "cell_type": "code",
   "execution_count": 24,
   "id": "5ed3708d",
   "metadata": {},
   "outputs": [
    {
     "name": "stdout",
     "output_type": "stream",
     "text": [
      "[['New York', 'London', 'Istanbul', 'Seoul', 'Sydney']]\n",
      "a\n"
     ]
    }
   ],
   "source": [
    "city = ['New York', 'London', 'Istanbul', 'Seoul', 'Sydney']\n",
    "city_list=[]\n",
    "city_list.append(city)\n",
    "print(city_list)\n",
    "print(city_list[0][2][3])   #slicing a list"
   ]
  },
  {
   "cell_type": "code",
   "execution_count": 28,
   "id": "820a232b",
   "metadata": {},
   "outputs": [
    {
     "name": "stdout",
     "output_type": "stream",
     "text": [
      "[0, 1, 2, 3, 4, 5, 6, 7, 8, 9, 10]\n"
     ]
    }
   ],
   "source": [
    "range(11)\n",
    "odd_number=list(range(11))\n",
    "print(odd_number)"
   ]
  },
  {
   "cell_type": "code",
   "execution_count": 30,
   "id": "a23d5636",
   "metadata": {},
   "outputs": [
    {
     "data": {
      "text/plain": [
       "[1, 3, 5, 7, 9]"
      ]
     },
     "execution_count": 30,
     "metadata": {},
     "output_type": "execute_result"
    }
   ],
   "source": [
    "odd_number[1:10:2]"
   ]
  },
  {
   "cell_type": "code",
   "execution_count": 31,
   "id": "037ed9e3",
   "metadata": {},
   "outputs": [
    {
     "data": {
      "text/plain": [
       "[2, 3, 4, 5, 6, 7]"
      ]
     },
     "execution_count": 31,
     "metadata": {},
     "output_type": "execute_result"
    }
   ],
   "source": [
    "odd_number[2:-3]"
   ]
  },
  {
   "cell_type": "code",
   "execution_count": 33,
   "id": "131aea03",
   "metadata": {},
   "outputs": [
    {
     "data": {
      "text/plain": [
       "[10, 9, 8, 7, 6]"
      ]
     },
     "execution_count": 33,
     "metadata": {},
     "output_type": "execute_result"
    }
   ],
   "source": [
    "odd_number[-1:-6:-1]"
   ]
  },
  {
   "cell_type": "code",
   "execution_count": 34,
   "id": "ae052dc1",
   "metadata": {},
   "outputs": [
    {
     "name": "stdout",
     "output_type": "stream",
     "text": [
      "<class 'list'>\n"
     ]
    }
   ],
   "source": [
    "x=([1,2,3])\n",
    "print(type(x))"
   ]
  },
  {
   "cell_type": "code",
   "execution_count": 36,
   "id": "06e1a918",
   "metadata": {},
   "outputs": [
    {
     "name": "stdout",
     "output_type": "stream",
     "text": [
      "<class 'str'>\n",
      "<class 'tuple'>\n"
     ]
    }
   ],
   "source": [
    "word =('Ahmet')\n",
    "print(type(word))\n",
    "word ='Ahmet',\n",
    "print(type(word))"
   ]
  },
  {
   "cell_type": "code",
   "execution_count": 37,
   "id": "9823ecdc",
   "metadata": {},
   "outputs": [
    {
     "name": "stdout",
     "output_type": "stream",
     "text": [
      "[True, 'ankara', 'kastamonu']\n"
     ]
    }
   ],
   "source": [
    "city=[\"izmir\",\"ankara\",\"kastamonu\"]\n",
    "city[0]= True\n",
    "print(city)"
   ]
  },
  {
   "cell_type": "code",
   "execution_count": 39,
   "id": "081722ee",
   "metadata": {},
   "outputs": [
    {
     "data": {
      "text/plain": [
       "[True, 'KAyseri', 'Antalya']"
      ]
     },
     "execution_count": 39,
     "metadata": {},
     "output_type": "execute_result"
    }
   ],
   "source": [
    "city[1:]=\"KAyseri\",\"Antalya\"\n",
    "city"
   ]
  },
  {
   "cell_type": "code",
   "execution_count": 41,
   "id": "b77923de",
   "metadata": {},
   "outputs": [
    {
     "data": {
      "text/plain": [
       "[True, '1', '2', '3', '4', False]"
      ]
     },
     "execution_count": 41,
     "metadata": {},
     "output_type": "execute_result"
    }
   ],
   "source": [
    "city[1:]=[\"1\",\"2\",\"3\",\"4\",False]\n",
    "city"
   ]
  },
  {
   "cell_type": "code",
   "execution_count": 44,
   "id": "478cb864",
   "metadata": {},
   "outputs": [
    {
     "data": {
      "text/plain": [
       "[True, 'a', 'n', 'k', 'a', 'r', 'a']"
      ]
     },
     "execution_count": 44,
     "metadata": {},
     "output_type": "execute_result"
    }
   ],
   "source": [
    "city[1:]=\"ankara\"\n",
    "city"
   ]
  },
  {
   "cell_type": "code",
   "execution_count": 45,
   "id": "2c0ff572",
   "metadata": {},
   "outputs": [],
   "source": [
    "mountain='h','a','p','y'\n",
    "mountain_2=1,3,5\n"
   ]
  },
  {
   "cell_type": "code",
   "execution_count": 67,
   "id": "652c5afd",
   "metadata": {},
   "outputs": [
    {
     "name": "stdout",
     "output_type": "stream",
     "text": [
      "<class 'tuple'>\n",
      "(1, 2, 3, 4, 5, 6, 7, 8, 9)\n"
     ]
    }
   ],
   "source": [
    "x= tuple(range(1,10))\n",
    "print(type(x),x ,sep='\\n' )"
   ]
  },
  {
   "cell_type": "code",
   "execution_count": 64,
   "id": "baabe7ee",
   "metadata": {},
   "outputs": [
    {
     "data": {
      "text/plain": [
       "[2, 'two', ('six', 6)]"
      ]
     },
     "execution_count": 64,
     "metadata": {},
     "output_type": "execute_result"
    }
   ],
   "source": [
    "mix_tuple = ('11',11,[2,'two',('six',6)],(5,'fair'))\n",
    "mix_tuple[2]"
   ]
  },
  {
   "cell_type": "code",
   "execution_count": 65,
   "id": "1cc58e1d",
   "metadata": {},
   "outputs": [
    {
     "data": {
      "text/plain": [
       "('six', 6)"
      ]
     },
     "execution_count": 65,
     "metadata": {},
     "output_type": "execute_result"
    }
   ],
   "source": [
    "mix_tuple[2][2]"
   ]
  },
  {
   "cell_type": "code",
   "execution_count": 66,
   "id": "6575d560",
   "metadata": {},
   "outputs": [
    {
     "data": {
      "text/plain": [
       "('11', 11, [2, 'two', ('six', 6), 'caktirmayin'], (5, 'fair'))"
      ]
     },
     "execution_count": 66,
     "metadata": {},
     "output_type": "execute_result"
    }
   ],
   "source": [
    "mix_tuple[2].append(\"caktirmayin\")\n",
    "mix_tuple"
   ]
  },
  {
   "cell_type": "code",
   "execution_count": 68,
   "id": "2a359d64",
   "metadata": {},
   "outputs": [
    {
     "name": "stdout",
     "output_type": "stream",
     "text": [
      "['two', ('six', 6)] <class 'list'>\n"
     ]
    }
   ],
   "source": [
    "str_six=mix_tuple[2][1:3]\n",
    "print(str_six,type(str_six))"
   ]
  },
  {
   "cell_type": "code",
   "execution_count": null,
   "id": "b953a71c",
   "metadata": {},
   "outputs": [],
   "source": []
  }
 ],
 "metadata": {
  "kernelspec": {
   "display_name": "Python 3",
   "language": "python",
   "name": "python3"
  },
  "language_info": {
   "codemirror_mode": {
    "name": "ipython",
    "version": 3
   },
   "file_extension": ".py",
   "mimetype": "text/x-python",
   "name": "python",
   "nbconvert_exporter": "python",
   "pygments_lexer": "ipython3",
   "version": "3.8.8"
  }
 },
 "nbformat": 4,
 "nbformat_minor": 5
}
