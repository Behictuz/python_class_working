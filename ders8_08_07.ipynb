{
 "cells": [
  {
   "cell_type": "code",
   "execution_count": 1,
   "id": "9bd01ee9",
   "metadata": {},
   "outputs": [
    {
     "name": "stdout",
     "output_type": "stream",
     "text": [
      "{'animal': 'dog', 'planet': 'neptun', 'number': 40, 'pi': 3.14, 'is_good': True}\n"
     ]
    }
   ],
   "source": [
    "dict_by_dict = dict(animal=\"dog\" , planet =\"neptun\" , number = 40 , pi =3.14, is_good =True )\n",
    "print(dict_by_dict)"
   ]
  },
  {
   "cell_type": "code",
   "execution_count": 2,
   "id": "ff530ffc",
   "metadata": {},
   "outputs": [
    {
     "data": {
      "text/plain": [
       "{'name1': 'Joseph', 'name2': ' Bella', 'name3': 'aisha', 'name4': 'Tom'}"
      ]
     },
     "execution_count": 2,
     "metadata": {},
     "output_type": "execute_result"
    }
   ],
   "source": [
    "family = dict(name1 = \"Joseph\", name2=\" Bella\" , name3 = \"aisha\", name4 = \"Tom\")\n",
    "family"
   ]
  },
  {
   "cell_type": "code",
   "execution_count": 3,
   "id": "254d123a",
   "metadata": {},
   "outputs": [
    {
     "data": {
      "text/plain": [
       "{5: 'bes', 15: 'on', 20: 'yirmi'}"
      ]
     },
     "execution_count": 3,
     "metadata": {},
     "output_type": "execute_result"
    }
   ],
   "source": [
    "n1 , n2, n3 =5 ,15 ,20\n",
    "numbers = {n1:\"bes\", n2 :\"on\", n3 :\"yirmi\"}\n",
    "numbers"
   ]
  },
  {
   "cell_type": "code",
   "execution_count": 9,
   "id": "0a92debb",
   "metadata": {},
   "outputs": [
    {
     "data": {
      "text/plain": [
       "{'tek': [], 'cift': []}"
      ]
     },
     "execution_count": 9,
     "metadata": {},
     "output_type": "execute_result"
    }
   ],
   "source": [
    "sayilar = {\"tek\" : []\n",
    "            ,\"cift\":[]}\n",
    "sayilar"
   ]
  },
  {
   "cell_type": "code",
   "execution_count": 10,
   "id": "d8276abf",
   "metadata": {},
   "outputs": [
    {
     "data": {
      "text/plain": [
       "[]"
      ]
     },
     "execution_count": 10,
     "metadata": {},
     "output_type": "execute_result"
    }
   ],
   "source": [
    "sayilar[\"tek\"]"
   ]
  },
  {
   "cell_type": "code",
   "execution_count": 11,
   "id": "fc952cd7",
   "metadata": {},
   "outputs": [
    {
     "data": {
      "text/plain": [
       "list"
      ]
     },
     "execution_count": 11,
     "metadata": {},
     "output_type": "execute_result"
    }
   ],
   "source": [
    "type(sayilar[\"tek\"])"
   ]
  },
  {
   "cell_type": "code",
   "execution_count": 12,
   "id": "41dfa077",
   "metadata": {},
   "outputs": [],
   "source": [
    "sayilar[\"tek\"].append(1)"
   ]
  },
  {
   "cell_type": "code",
   "execution_count": 14,
   "id": "fb8bf94d",
   "metadata": {},
   "outputs": [
    {
     "data": {
      "text/plain": [
       "[1]"
      ]
     },
     "execution_count": 14,
     "metadata": {},
     "output_type": "execute_result"
    }
   ],
   "source": [
    "sayilar[\"tek\"]"
   ]
  },
  {
   "cell_type": "code",
   "execution_count": 15,
   "id": "cc080400",
   "metadata": {},
   "outputs": [],
   "source": [
    "sayilar[\"cift\"].append(2)"
   ]
  },
  {
   "cell_type": "code",
   "execution_count": 16,
   "id": "b74a2a8d",
   "metadata": {},
   "outputs": [
    {
     "data": {
      "text/plain": [
       "{'tek': [1], 'cift': [2]}"
      ]
     },
     "execution_count": 16,
     "metadata": {},
     "output_type": "execute_result"
    }
   ],
   "source": [
    "sayilar"
   ]
  },
  {
   "cell_type": "code",
   "execution_count": 17,
   "id": "156f9846",
   "metadata": {},
   "outputs": [],
   "source": [
    "meyveler={}.fromkeys([\"elma\",\"armut\"],0)"
   ]
  },
  {
   "cell_type": "code",
   "execution_count": 18,
   "id": "e8baf898",
   "metadata": {},
   "outputs": [
    {
     "data": {
      "text/plain": [
       "{'elma': 0, 'armut': 0}"
      ]
     },
     "execution_count": 18,
     "metadata": {},
     "output_type": "execute_result"
    }
   ],
   "source": [
    "meyveler"
   ]
  },
  {
   "cell_type": "code",
   "execution_count": 19,
   "id": "923897a8",
   "metadata": {},
   "outputs": [],
   "source": [
    "meyveler[\"elma\"] += 1 #meyveler[\"elma\"] = meyveler[\"elma\"] +1"
   ]
  },
  {
   "cell_type": "code",
   "execution_count": 20,
   "id": "6a533675",
   "metadata": {},
   "outputs": [
    {
     "data": {
      "text/plain": [
       "{'elma': 1, 'armut': 0}"
      ]
     },
     "execution_count": 20,
     "metadata": {},
     "output_type": "execute_result"
    }
   ],
   "source": [
    "meyveler"
   ]
  },
  {
   "cell_type": "code",
   "execution_count": 23,
   "id": "6807283c",
   "metadata": {},
   "outputs": [],
   "source": [
    "meyveler[\"armut\"] += 1"
   ]
  },
  {
   "cell_type": "code",
   "execution_count": 24,
   "id": "7d30065f",
   "metadata": {},
   "outputs": [
    {
     "data": {
      "text/plain": [
       "{'elma': 1, 'armut': 3}"
      ]
     },
     "execution_count": 24,
     "metadata": {},
     "output_type": "execute_result"
    }
   ],
   "source": [
    "meyveler"
   ]
  },
  {
   "cell_type": "code",
   "execution_count": 27,
   "id": "24745f6e",
   "metadata": {},
   "outputs": [],
   "source": [
    "esyalar={}.fromkeys([\"hali\",\"koltuk\"],3)"
   ]
  },
  {
   "cell_type": "code",
   "execution_count": 29,
   "id": "1fa2c059",
   "metadata": {},
   "outputs": [
    {
     "data": {
      "text/plain": [
       "{'hali': 3, 'koltuk': 3}"
      ]
     },
     "execution_count": 29,
     "metadata": {},
     "output_type": "execute_result"
    }
   ],
   "source": [
    "esyalar"
   ]
  },
  {
   "cell_type": "code",
   "execution_count": 35,
   "id": "7c948b29",
   "metadata": {},
   "outputs": [
    {
     "name": "stdout",
     "output_type": "stream",
     "text": [
      "dict_items([('animal', 'boyun'), ('planet', 'armut')])\n",
      "dict_keys(['animal', 'planet'])\n",
      "dict_values(['boyun', 'armut'])\n"
     ]
    }
   ],
   "source": [
    "insan = {\"animal\":\"boyun\",\"planet\":\"armut\"}\n",
    "print(insan.items())\n",
    "print(insan.keys())\n",
    "print(insan.values())\n"
   ]
  },
  {
   "cell_type": "code",
   "execution_count": 36,
   "id": "9700003d",
   "metadata": {},
   "outputs": [],
   "source": [
    "dict_by_dict = {'animal':'dog',\n",
    "\t\t\t'planet': 'Neptun',\n",
    "\t\t\t'number': 40,\n",
    "\t\t\t'pi':3.14,\n",
    "\t\t\t'is_good': True}"
   ]
  },
  {
   "cell_type": "code",
   "execution_count": 37,
   "id": "66e778ac",
   "metadata": {},
   "outputs": [
    {
     "data": {
      "text/plain": [
       "[('animal', 'dog'),\n",
       " ('planet', 'Neptun'),\n",
       " ('number', 40),\n",
       " ('pi', 3.14),\n",
       " ('is_good', True)]"
      ]
     },
     "execution_count": 37,
     "metadata": {},
     "output_type": "execute_result"
    }
   ],
   "source": [
    "list(dict_by_dict.items())"
   ]
  },
  {
   "cell_type": "code",
   "execution_count": 38,
   "id": "b85acc95",
   "metadata": {},
   "outputs": [
    {
     "data": {
      "text/plain": [
       "['dog', 'Neptun', 40, 3.14, True]"
      ]
     },
     "execution_count": 38,
     "metadata": {},
     "output_type": "execute_result"
    }
   ],
   "source": [
    "list(dict_by_dict.values())"
   ]
  },
  {
   "cell_type": "code",
   "execution_count": 39,
   "id": "0e29490b",
   "metadata": {},
   "outputs": [
    {
     "data": {
      "text/plain": [
       "{'name1': 'Joseph', 'name2': ' Bella', 'name3': 'aisha', 'name4': 'Tom'}"
      ]
     },
     "execution_count": 39,
     "metadata": {},
     "output_type": "execute_result"
    }
   ],
   "source": [
    "family"
   ]
  },
  {
   "cell_type": "code",
   "execution_count": 40,
   "id": "f6c0316a",
   "metadata": {},
   "outputs": [
    {
     "data": {
      "text/plain": [
       "[('name1', 'Joseph'),\n",
       " ('name2', ' Bella'),\n",
       " ('name3', 'aisha'),\n",
       " ('name4', 'Tom')]"
      ]
     },
     "execution_count": 40,
     "metadata": {},
     "output_type": "execute_result"
    }
   ],
   "source": [
    "list(family.items())"
   ]
  },
  {
   "cell_type": "code",
   "execution_count": 41,
   "id": "d7b31bc2",
   "metadata": {},
   "outputs": [
    {
     "data": {
      "text/plain": [
       "{'animal': 'dog',\n",
       " 'planet': 'Neptun',\n",
       " 'number': 40,\n",
       " 'pi': 3.14,\n",
       " 'is_good': True}"
      ]
     },
     "execution_count": 41,
     "metadata": {},
     "output_type": "execute_result"
    }
   ],
   "source": [
    "dict_by_dict"
   ]
  },
  {
   "cell_type": "code",
   "execution_count": 43,
   "id": "12f5a467",
   "metadata": {},
   "outputs": [
    {
     "name": "stdout",
     "output_type": "stream",
     "text": [
      "{'animal': 'dog', 'planet': 'Neptun', 'number': 40, 'pi': 3.14, 'is_good': True, 'is bad': False}\n"
     ]
    }
   ],
   "source": [
    "dict_by_dict.update({\"is bad\":False}) # virgul ile 2 Items ekleyebiliriz\n",
    "print(dict_by_dict)"
   ]
  },
  {
   "cell_type": "code",
   "execution_count": 44,
   "id": "19084a9c",
   "metadata": {},
   "outputs": [],
   "source": [
    "del dict_by_dict[\"is bad\"]"
   ]
  },
  {
   "cell_type": "code",
   "execution_count": 45,
   "id": "aec9463c",
   "metadata": {},
   "outputs": [
    {
     "data": {
      "text/plain": [
       "{'animal': 'dog',\n",
       " 'planet': 'Neptun',\n",
       " 'number': 40,\n",
       " 'pi': 3.14,\n",
       " 'is_good': True}"
      ]
     },
     "execution_count": 45,
     "metadata": {},
     "output_type": "execute_result"
    }
   ],
   "source": [
    "dict_by_dict"
   ]
  },
  {
   "cell_type": "code",
   "execution_count": 46,
   "id": "6a1f8c15",
   "metadata": {},
   "outputs": [
    {
     "data": {
      "text/plain": [
       "{'name2': ' Bella', 'name3': 'aisha'}"
      ]
     },
     "execution_count": 46,
     "metadata": {},
     "output_type": "execute_result"
    }
   ],
   "source": [
    "del family[\"name1\"], family[\"name4\"]\n",
    "family"
   ]
  },
  {
   "cell_type": "code",
   "execution_count": 47,
   "id": "a8fb691f",
   "metadata": {},
   "outputs": [
    {
     "data": {
      "text/plain": [
       "False"
      ]
     },
     "execution_count": 47,
     "metadata": {},
     "output_type": "execute_result"
    }
   ],
   "source": [
    "clarusway = [\"ali\",\"veli\",\"deli\"]\n",
    "\"zeka küpü\" in clarusway"
   ]
  },
  {
   "cell_type": "code",
   "execution_count": 48,
   "id": "35bbddbc",
   "metadata": {},
   "outputs": [
    {
     "data": {
      "text/plain": [
       "True"
      ]
     },
     "execution_count": 48,
     "metadata": {},
     "output_type": "execute_result"
    }
   ],
   "source": [
    "\"deli\" in clarusway"
   ]
  },
  {
   "cell_type": "code",
   "execution_count": 49,
   "id": "837e1415",
   "metadata": {},
   "outputs": [
    {
     "data": {
      "text/plain": [
       "False"
      ]
     },
     "execution_count": 49,
     "metadata": {},
     "output_type": "execute_result"
    }
   ],
   "source": [
    "\"dog\" in dict_by_dict #sadece keylerin arasinda arar"
   ]
  },
  {
   "cell_type": "code",
   "execution_count": 51,
   "id": "26b9030e",
   "metadata": {},
   "outputs": [
    {
     "data": {
      "text/plain": [
       "True"
      ]
     },
     "execution_count": 51,
     "metadata": {},
     "output_type": "execute_result"
    }
   ],
   "source": [
    "\"dog\" in dict_by_dict.values()"
   ]
  },
  {
   "cell_type": "code",
   "execution_count": 52,
   "id": "7b0dae40",
   "metadata": {},
   "outputs": [
    {
     "data": {
      "text/plain": [
       "True"
      ]
     },
     "execution_count": 52,
     "metadata": {},
     "output_type": "execute_result"
    }
   ],
   "source": [
    "\"dog \" not in dict_by_dict"
   ]
  },
  {
   "cell_type": "code",
   "execution_count": 53,
   "id": "55280c94",
   "metadata": {},
   "outputs": [],
   "source": [
    "school_records={\n",
    "\t'personal_info':\n",
    "\t\t{'kid':{'tom':{'class':'intermediate', 'age':10},\n",
    "\t\t\t'sue':{'class':'elemantary', 'age':8}\n",
    "\t\t\t},\n",
    "\t\t'teen':{'joseph':{'class':'college', 'age':19},\n",
    "\t\t\t'marry':{'class':'high school', 'age':16}\n",
    "\t\t\t},\n",
    "\t\t},\n",
    "\t'grades_info':\n",
    "\t\t{'kid':{'tom':{'math':88, 'speech':69},\n",
    "\t\t\t'sue':{'math':90, 'speech':81}\n",
    "\t\t\t},\n",
    "\t\t'teen':{'joseph':{'coding':80, 'math':89},\n",
    "\t\t\t'marry':{'coding':70, 'math':96}\n",
    "\t\t\t},\n",
    "\t\t}\n",
    "}"
   ]
  },
  {
   "cell_type": "code",
   "execution_count": 54,
   "id": "a20b28fa",
   "metadata": {},
   "outputs": [
    {
     "data": {
      "text/plain": [
       "{'personal_info': {'kid': {'tom': {'class': 'intermediate', 'age': 10},\n",
       "   'sue': {'class': 'elemantary', 'age': 8}},\n",
       "  'teen': {'joseph': {'class': 'college', 'age': 19},\n",
       "   'marry': {'class': 'high school', 'age': 16}}},\n",
       " 'grades_info': {'kid': {'tom': {'math': 88, 'speech': 69},\n",
       "   'sue': {'math': 90, 'speech': 81}},\n",
       "  'teen': {'joseph': {'coding': 80, 'math': 89},\n",
       "   'marry': {'coding': 70, 'math': 96}}}}"
      ]
     },
     "execution_count": 54,
     "metadata": {},
     "output_type": "execute_result"
    }
   ],
   "source": [
    "school_records"
   ]
  },
  {
   "cell_type": "code",
   "execution_count": 55,
   "id": "635fc4c3",
   "metadata": {},
   "outputs": [
    {
     "name": "stdout",
     "output_type": "stream",
     "text": [
      "dict_keys(['kid', 'teen'])\n"
     ]
    }
   ],
   "source": [
    "print(school_records[\"personal_info\"].keys())"
   ]
  },
  {
   "cell_type": "code",
   "execution_count": 56,
   "id": "1456de51",
   "metadata": {},
   "outputs": [
    {
     "name": "stdout",
     "output_type": "stream",
     "text": [
      "dict_keys(['joseph', 'marry'])\n"
     ]
    }
   ],
   "source": [
    "print(school_records[\"personal_info\"][\"teen\"].keys())"
   ]
  },
  {
   "cell_type": "code",
   "execution_count": 57,
   "id": "ae7788db",
   "metadata": {},
   "outputs": [
    {
     "data": {
      "text/plain": [
       "89"
      ]
     },
     "execution_count": 57,
     "metadata": {},
     "output_type": "execute_result"
    }
   ],
   "source": [
    "school_records[\"grades_info\"][\"teen\"][\"joseph\"][\"math\"]"
   ]
  },
  {
   "cell_type": "code",
   "execution_count": 63,
   "id": "eafd579f",
   "metadata": {},
   "outputs": [
    {
     "name": "stdout",
     "output_type": "stream",
     "text": [
      "[('coding', 80), ('math', 89)]\n",
      "{'coding': 80, 'math': 89}\n"
     ]
    }
   ],
   "source": [
    "print(list(school_records[\"grades_info\"][\"teen\"][\"joseph\"].items()))\n",
    "print(school_records[\"grades_info\"][\"teen\"][\"joseph\"]) #dict olarak"
   ]
  },
  {
   "cell_type": "code",
   "execution_count": 64,
   "id": "8ed64636",
   "metadata": {},
   "outputs": [],
   "source": [
    "para=1000"
   ]
  },
  {
   "cell_type": "code",
   "execution_count": 66,
   "id": "ca05c298",
   "metadata": {},
   "outputs": [],
   "source": [
    "para=para + para*0.07"
   ]
  },
  {
   "cell_type": "code",
   "execution_count": 67,
   "id": "cf262369",
   "metadata": {},
   "outputs": [
    {
     "data": {
      "text/plain": [
       "1144.9"
      ]
     },
     "execution_count": 67,
     "metadata": {},
     "output_type": "execute_result"
    }
   ],
   "source": [
    "para"
   ]
  },
  {
   "cell_type": "code",
   "execution_count": 70,
   "id": "f0e5cbbe",
   "metadata": {},
   "outputs": [
    {
     "ename": "SyntaxError",
     "evalue": "invalid syntax (<ipython-input-70-97dcc6878ec8>, line 2)",
     "output_type": "error",
     "traceback": [
      "\u001b[1;36m  File \u001b[1;32m\"<ipython-input-70-97dcc6878ec8>\"\u001b[1;36m, line \u001b[1;32m2\u001b[0m\n\u001b[1;33m    print(f\"igne {samanlik.index(\"igne\")} numarali indextedir\")\u001b[0m\n\u001b[1;37m                                  ^\u001b[0m\n\u001b[1;31mSyntaxError\u001b[0m\u001b[1;31m:\u001b[0m invalid syntax\n"
     ]
    }
   ],
   "source": [
    "samanlik =[\"yumurta\",\"samalik\",\"inek\",\"tavuk\",\"yaba\"]\n",
    "print(f\"igne {samanlik.index(\"igne\")} numarali indextedir\")"
   ]
  },
  {
   "cell_type": "code",
   "execution_count": null,
   "id": "1938874b",
   "metadata": {},
   "outputs": [],
   "source": []
  }
 ],
 "metadata": {
  "kernelspec": {
   "display_name": "Python 3",
   "language": "python",
   "name": "python3"
  },
  "language_info": {
   "codemirror_mode": {
    "name": "ipython",
    "version": 3
   },
   "file_extension": ".py",
   "mimetype": "text/x-python",
   "name": "python",
   "nbconvert_exporter": "python",
   "pygments_lexer": "ipython3",
   "version": "3.8.8"
  }
 },
 "nbformat": 4,
 "nbformat_minor": 5
}
